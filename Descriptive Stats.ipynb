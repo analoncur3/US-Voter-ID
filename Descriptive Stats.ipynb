{
 "cells": [
  {
   "cell_type": "markdown",
   "metadata": {},
   "source": [
    "## Data\n",
    "\n",
    "First we load the data, inspect it and remove columns we don't need:"
   ]
  },
  {
   "cell_type": "code",
   "execution_count": 23,
   "metadata": {},
   "outputs": [
    {
     "name": "stdout",
     "output_type": "stream",
     "text": [
      "Requirement already satisfied: nltk in c:\\users\\analo\\appdata\\local\\packages\\pythonsoftwarefoundation.python.3.9_qbz5n2kfra8p0\\localcache\\local-packages\\python39\\site-packages (3.6.5)\n",
      "Requirement already satisfied: joblib in c:\\users\\analo\\appdata\\local\\packages\\pythonsoftwarefoundation.python.3.9_qbz5n2kfra8p0\\localcache\\local-packages\\python39\\site-packages (from nltk) (1.1.0)\n",
      "Requirement already satisfied: tqdm in c:\\users\\analo\\appdata\\local\\packages\\pythonsoftwarefoundation.python.3.9_qbz5n2kfra8p0\\localcache\\local-packages\\python39\\site-packages (from nltk) (4.62.3)\n",
      "Requirement already satisfied: click in c:\\users\\analo\\appdata\\local\\packages\\pythonsoftwarefoundation.python.3.9_qbz5n2kfra8p0\\localcache\\local-packages\\python39\\site-packages (from nltk) (8.0.3)\n",
      "Requirement already satisfied: regex>=2021.8.3 in c:\\users\\analo\\appdata\\local\\packages\\pythonsoftwarefoundation.python.3.9_qbz5n2kfra8p0\\localcache\\local-packages\\python39\\site-packages (from nltk) (2021.10.8)\n",
      "Requirement already satisfied: colorama in c:\\users\\analo\\appdata\\local\\packages\\pythonsoftwarefoundation.python.3.9_qbz5n2kfra8p0\\localcache\\local-packages\\python39\\site-packages (from click->nltk) (0.4.4)\n",
      "Requirement already satisfied: pandas in c:\\users\\analo\\appdata\\local\\packages\\pythonsoftwarefoundation.python.3.9_qbz5n2kfra8p0\\localcache\\local-packages\\python39\\site-packages (1.3.4)\n",
      "Requirement already satisfied: pytz>=2017.3 in c:\\users\\analo\\appdata\\local\\packages\\pythonsoftwarefoundation.python.3.9_qbz5n2kfra8p0\\localcache\\local-packages\\python39\\site-packages (from pandas) (2021.3)\n",
      "Requirement already satisfied: python-dateutil>=2.7.3 in c:\\users\\analo\\appdata\\local\\packages\\pythonsoftwarefoundation.python.3.9_qbz5n2kfra8p0\\localcache\\local-packages\\python39\\site-packages (from pandas) (2.8.2)\n",
      "Requirement already satisfied: numpy>=1.17.3 in c:\\users\\analo\\appdata\\local\\packages\\pythonsoftwarefoundation.python.3.9_qbz5n2kfra8p0\\localcache\\local-packages\\python39\\site-packages (from pandas) (1.21.2)\n",
      "Requirement already satisfied: six>=1.5 in c:\\users\\analo\\appdata\\local\\packages\\pythonsoftwarefoundation.python.3.9_qbz5n2kfra8p0\\localcache\\local-packages\\python39\\site-packages (from python-dateutil>=2.7.3->pandas) (1.16.0)\n",
      "Requirement already satisfied: numpy in c:\\users\\analo\\appdata\\local\\packages\\pythonsoftwarefoundation.python.3.9_qbz5n2kfra8p0\\localcache\\local-packages\\python39\\site-packages (1.21.2)\n",
      "Requirement already satisfied: matplotlib in c:\\users\\analo\\appdata\\local\\packages\\pythonsoftwarefoundation.python.3.9_qbz5n2kfra8p0\\localcache\\local-packages\\python39\\site-packages (3.4.3)\n",
      "Requirement already satisfied: kiwisolver>=1.0.1 in c:\\users\\analo\\appdata\\local\\packages\\pythonsoftwarefoundation.python.3.9_qbz5n2kfra8p0\\localcache\\local-packages\\python39\\site-packages (from matplotlib) (1.3.2)\n",
      "Requirement already satisfied: pyparsing>=2.2.1 in c:\\users\\analo\\appdata\\local\\packages\\pythonsoftwarefoundation.python.3.9_qbz5n2kfra8p0\\localcache\\local-packages\\python39\\site-packages (from matplotlib) (2.4.7)\n",
      "Requirement already satisfied: cycler>=0.10 in c:\\users\\analo\\appdata\\local\\packages\\pythonsoftwarefoundation.python.3.9_qbz5n2kfra8p0\\localcache\\local-packages\\python39\\site-packages (from matplotlib) (0.10.0)\n",
      "Requirement already satisfied: numpy>=1.16 in c:\\users\\analo\\appdata\\local\\packages\\pythonsoftwarefoundation.python.3.9_qbz5n2kfra8p0\\localcache\\local-packages\\python39\\site-packages (from matplotlib) (1.21.2)\n",
      "Requirement already satisfied: pillow>=6.2.0 in c:\\users\\analo\\appdata\\local\\packages\\pythonsoftwarefoundation.python.3.9_qbz5n2kfra8p0\\localcache\\local-packages\\python39\\site-packages (from matplotlib) (8.4.0)\n",
      "Requirement already satisfied: python-dateutil>=2.7 in c:\\users\\analo\\appdata\\local\\packages\\pythonsoftwarefoundation.python.3.9_qbz5n2kfra8p0\\localcache\\local-packages\\python39\\site-packages (from matplotlib) (2.8.2)\n",
      "Requirement already satisfied: six in c:\\users\\analo\\appdata\\local\\packages\\pythonsoftwarefoundation.python.3.9_qbz5n2kfra8p0\\localcache\\local-packages\\python39\\site-packages (from cycler>=0.10->matplotlib) (1.16.0)\n",
      "Requirement already satisfied: sklearn in c:\\users\\analo\\appdata\\local\\packages\\pythonsoftwarefoundation.python.3.9_qbz5n2kfra8p0\\localcache\\local-packages\\python39\\site-packages (0.0)\n",
      "Requirement already satisfied: scikit-learn in c:\\users\\analo\\appdata\\local\\packages\\pythonsoftwarefoundation.python.3.9_qbz5n2kfra8p0\\localcache\\local-packages\\python39\\site-packages (from sklearn) (1.0)\n",
      "Requirement already satisfied: scipy>=1.1.0 in c:\\users\\analo\\appdata\\local\\packages\\pythonsoftwarefoundation.python.3.9_qbz5n2kfra8p0\\localcache\\local-packages\\python39\\site-packages (from scikit-learn->sklearn) (1.7.1)\n",
      "Requirement already satisfied: threadpoolctl>=2.0.0 in c:\\users\\analo\\appdata\\local\\packages\\pythonsoftwarefoundation.python.3.9_qbz5n2kfra8p0\\localcache\\local-packages\\python39\\site-packages (from scikit-learn->sklearn) (3.0.0)\n",
      "Requirement already satisfied: joblib>=0.11 in c:\\users\\analo\\appdata\\local\\packages\\pythonsoftwarefoundation.python.3.9_qbz5n2kfra8p0\\localcache\\local-packages\\python39\\site-packages (from scikit-learn->sklearn) (1.1.0)\n",
      "Requirement already satisfied: numpy>=1.14.6 in c:\\users\\analo\\appdata\\local\\packages\\pythonsoftwarefoundation.python.3.9_qbz5n2kfra8p0\\localcache\\local-packages\\python39\\site-packages (from scikit-learn->sklearn) (1.21.2)\n"
     ]
    },
    {
     "name": "stderr",
     "output_type": "stream",
     "text": [
      "[nltk_data] Downloading package punkt to\n",
      "[nltk_data]     C:\\Users\\analo\\AppData\\Roaming\\nltk_data...\n",
      "[nltk_data]   Package punkt is already up-to-date!\n",
      "[nltk_data] Downloading package wordnet to\n",
      "[nltk_data]     C:\\Users\\analo\\AppData\\Roaming\\nltk_data...\n",
      "[nltk_data]   Package wordnet is already up-to-date!\n",
      "[nltk_data] Downloading package averaged_perceptron_tagger to\n",
      "[nltk_data]     C:\\Users\\analo\\AppData\\Roaming\\nltk_data...\n",
      "[nltk_data]   Package averaged_perceptron_tagger is already up-to-\n",
      "[nltk_data]       date!\n"
     ]
    }
   ],
   "source": [
    "## Importing modules\n",
    "!pip install nltk\n",
    "!pip install pandas\n",
    "!pip install numpy\n",
    "!pip install matplotlib\n",
    "!pip install sklearn\n",
    "import re, nltk, numpy, matplotlib\n",
    "import pandas as pd\n",
    "nltk.download('punkt')\n",
    "nltk.download('wordnet')\n",
    "nltk.download('averaged_perceptron_tagger')\n",
    "from nltk.stem import WordNetLemmatizer, PorterStemmer, SnowballStemmer\n",
    "from nltk.corpus import stopwords\n",
    "from nltk.tokenize import word_tokenize\n",
    "from sklearn.feature_extraction.text import CountVectorizer, TfidfVectorizer, TfidfTransformer \n",
    "from sklearn.decomposition import LatentDirichletAllocation\n",
    "from gensim import corpora"
   ]
  },
  {
   "cell_type": "code",
   "execution_count": 58,
   "metadata": {},
   "outputs": [
    {
     "data": {
      "text/plain": [
       "742"
      ]
     },
     "execution_count": 58,
     "metadata": {},
     "output_type": "execute_result"
    }
   ],
   "source": [
    "data = pd.read_csv(\"US_Debates_ngrams.csv\")\n",
    "data.head()\n",
    "df = data.drop(columns=['Title', 'State', 'Volume', 'Where', 'Unnamed: 9', 'Unnamed: 11', 'Order']) # Remove columns\n",
    "df. dropna() # Drop NA rows\n",
    "len(df)"
   ]
  },
  {
   "cell_type": "code",
   "execution_count": 25,
   "metadata": {},
   "outputs": [
    {
     "data": {
      "text/plain": [
       "468681"
      ]
     },
     "execution_count": 25,
     "metadata": {},
     "output_type": "execute_result"
    }
   ],
   "source": [
    "text =df['text'].apply(str) \n",
    "tokens = [\" \".join(strings.split()) for strings in text] \n",
    "string = \" \".join(tokens)\n",
    "tokenized = word_tokenize(string)\n",
    "len(tokenized)"
   ]
  },
  {
   "cell_type": "markdown",
   "metadata": {},
   "source": [
    "## Preprocessing\n",
    "Now we can start preprocessing, by tokenising the corpus, removing puctuation and common stopwords, and converting the text into lower case."
   ]
  },
  {
   "cell_type": "code",
   "execution_count": 26,
   "metadata": {},
   "outputs": [],
   "source": [
    "stop_words_file = 'english.stop.txt' # Stopword list\n",
    "\n",
    "stop_words = []\n",
    "\n",
    "with open(stop_words_file, \"r\") as f:\n",
    "    for line in f:\n",
    "        stop_words.extend(line.split()) \n",
    "        \n",
    "stop_words = stop_words  \n",
    "\n",
    "def preprocess(raw_text):\n",
    "    \n",
    "    #regular expression keeping only letters \n",
    "    letters_only_text = re.sub(\"[^a-zA-Z]\", \" \", raw_text)\n",
    "\n",
    "     # convert to lower case and split into words -> convert string into list\n",
    "    words = letters_only_text.lower().split()\n",
    "    words=[\" \".join(words.split()) for words in words]   # remove double spaces by splitting the strings into words and joining these words again\n",
    "\n",
    "    cleaned_words = []\n",
    "    lemmatizer = WordNetLemmatizer() #plug in here any other stemmer or lemmatiser you want to try out\n",
    "    \n",
    "    # remove stopwords\n",
    "    for word in words:\n",
    "        if word not in stop_words:\n",
    "            cleaned_words.append(word)\n",
    "    \n",
    "    # lemmatise words\n",
    "    lemmatised_words = []\n",
    "    for word in cleaned_words:\n",
    "        word = nltk.stem.WordNetLemmatizer().lemmatize(word)  \n",
    "        lemmatised_words.append(word)\n",
    "\n",
    "    # converting list back to string\n",
    "    return \" \".join(lemmatised_words)"
   ]
  },
  {
   "cell_type": "code",
   "execution_count": 28,
   "metadata": {},
   "outputs": [
    {
     "data": {
      "text/plain": [
       "'sentence demonstrate preprocessing function work'"
      ]
     },
     "execution_count": 28,
     "metadata": {},
     "output_type": "execute_result"
    }
   ],
   "source": [
    "test_sentence = \"this is a sentence to demonstrate how the preprocessing function works...!\"\n",
    "\n",
    "preprocess(test_sentence)"
   ]
  },
  {
   "cell_type": "code",
   "execution_count": 29,
   "metadata": {},
   "outputs": [
    {
     "data": {
      "text/html": [
       "<div>\n",
       "<style scoped>\n",
       "    .dataframe tbody tr th:only-of-type {\n",
       "        vertical-align: middle;\n",
       "    }\n",
       "\n",
       "    .dataframe tbody tr th {\n",
       "        vertical-align: top;\n",
       "    }\n",
       "\n",
       "    .dataframe thead th {\n",
       "        text-align: right;\n",
       "    }\n",
       "</style>\n",
       "<table border=\"1\" class=\"dataframe\">\n",
       "  <thead>\n",
       "    <tr style=\"text-align: right;\">\n",
       "      <th></th>\n",
       "      <th>Date</th>\n",
       "      <th>Speaker</th>\n",
       "      <th>Party</th>\n",
       "      <th>text</th>\n",
       "      <th>Congress</th>\n",
       "      <th>prep</th>\n",
       "    </tr>\n",
       "  </thead>\n",
       "  <tbody>\n",
       "    <tr>\n",
       "      <th>0</th>\n",
       "      <td>Thursday, January 3, 2013</td>\n",
       "      <td>Ms. SLAUGHTER</td>\n",
       "      <td>Democratic</td>\n",
       "      <td>Under the cover of a cynical and untruthful cl...</td>\n",
       "      <td>113th</td>\n",
       "      <td>cover cynical untruthful claim voter fraud thr...</td>\n",
       "    </tr>\n",
       "    <tr>\n",
       "      <th>1</th>\n",
       "      <td>Thursday, February 14, 2013</td>\n",
       "      <td>Ms. JACKSON LEE</td>\n",
       "      <td>Democratic</td>\n",
       "      <td>As a Member of this body, I firmly believe th...</td>\n",
       "      <td>113th</td>\n",
       "      <td>member body firmly protect right eligible citi...</td>\n",
       "    </tr>\n",
       "    <tr>\n",
       "      <th>2</th>\n",
       "      <td>Thursday, February 14, 2013</td>\n",
       "      <td>Ms. JACKSON LEE</td>\n",
       "      <td>Democratic</td>\n",
       "      <td>There have been several restrictive voting bi...</td>\n",
       "      <td>113th</td>\n",
       "      <td>restrictive voting bill considered approved st...</td>\n",
       "    </tr>\n",
       "    <tr>\n",
       "      <th>3</th>\n",
       "      <td>Thursday, February 14, 2014</td>\n",
       "      <td>Mr. VEASEY</td>\n",
       "      <td>Democratic</td>\n",
       "      <td>As oral arguments are being prepared for the F...</td>\n",
       "      <td>113th</td>\n",
       "      <td>oral argument prepared february supreme court ...</td>\n",
       "    </tr>\n",
       "    <tr>\n",
       "      <th>4</th>\n",
       "      <td>Monday, February 25, 2013</td>\n",
       "      <td>Mr. JEFFRIES</td>\n",
       "      <td>Democratic</td>\n",
       "      <td>Perhaps the most relevant example of why secti...</td>\n",
       "      <td>113th</td>\n",
       "      <td>relevant section continues relevant due place ...</td>\n",
       "    </tr>\n",
       "  </tbody>\n",
       "</table>\n",
       "</div>"
      ],
      "text/plain": [
       "                          Date           Speaker       Party  \\\n",
       "0    Thursday, January 3, 2013     Ms. SLAUGHTER  Democratic   \n",
       "1  Thursday, February 14, 2013   Ms. JACKSON LEE  Democratic   \n",
       "2  Thursday, February 14, 2013   Ms. JACKSON LEE  Democratic   \n",
       "3  Thursday, February 14, 2014        Mr. VEASEY  Democratic   \n",
       "4    Monday, February 25, 2013      Mr. JEFFRIES  Democratic   \n",
       "\n",
       "                                                text Congress  \\\n",
       "0  Under the cover of a cynical and untruthful cl...    113th   \n",
       "1   As a Member of this body, I firmly believe th...    113th   \n",
       "2   There have been several restrictive voting bi...    113th   \n",
       "3  As oral arguments are being prepared for the F...    113th   \n",
       "4  Perhaps the most relevant example of why secti...    113th   \n",
       "\n",
       "                                                prep  \n",
       "0  cover cynical untruthful claim voter fraud thr...  \n",
       "1  member body firmly protect right eligible citi...  \n",
       "2  restrictive voting bill considered approved st...  \n",
       "3  oral argument prepared february supreme court ...  \n",
       "4  relevant section continues relevant due place ...  "
      ]
     },
     "execution_count": 29,
     "metadata": {},
     "output_type": "execute_result"
    }
   ],
   "source": [
    "df['text']=df['text'].apply(str) # Converting text column into string so that preprocessing works\n",
    "\n",
    "df['prep'] = df['text'].apply(preprocess)\n",
    "df.head()"
   ]
  },
  {
   "cell_type": "code",
   "execution_count": 30,
   "metadata": {},
   "outputs": [
    {
     "data": {
      "text/plain": [
       "178341"
      ]
     },
     "execution_count": 30,
     "metadata": {},
     "output_type": "execute_result"
    }
   ],
   "source": [
    "# Checking amount of words after preprocessing\n",
    "text =df['prep'].apply(str) \n",
    "tokens = [\" \".join(strings.split()) for strings in text] \n",
    "string = \" \".join(tokens)\n",
    "tokenized = word_tokenize(string)\n",
    "len(tokenized)"
   ]
  },
  {
   "cell_type": "code",
   "execution_count": 31,
   "metadata": {},
   "outputs": [
    {
     "data": {
      "text/html": [
       "<div>\n",
       "<style scoped>\n",
       "    .dataframe tbody tr th:only-of-type {\n",
       "        vertical-align: middle;\n",
       "    }\n",
       "\n",
       "    .dataframe tbody tr th {\n",
       "        vertical-align: top;\n",
       "    }\n",
       "\n",
       "    .dataframe thead th {\n",
       "        text-align: right;\n",
       "    }\n",
       "</style>\n",
       "<table border=\"1\" class=\"dataframe\">\n",
       "  <thead>\n",
       "    <tr style=\"text-align: right;\">\n",
       "      <th></th>\n",
       "      <th>Date</th>\n",
       "      <th>Speaker</th>\n",
       "      <th>Party</th>\n",
       "      <th>text</th>\n",
       "      <th>Congress</th>\n",
       "      <th>prep</th>\n",
       "      <th>freq</th>\n",
       "    </tr>\n",
       "  </thead>\n",
       "  <tbody>\n",
       "    <tr>\n",
       "      <th>0</th>\n",
       "      <td>Thursday, January 3, 2013</td>\n",
       "      <td>Ms. SLAUGHTER</td>\n",
       "      <td>Democratic</td>\n",
       "      <td>Under the cover of a cynical and untruthful cl...</td>\n",
       "      <td>113th</td>\n",
       "      <td>cover cynical untruthful claim voter fraud thr...</td>\n",
       "      <td>cover cynical claim voter fraud threat democra...</td>\n",
       "    </tr>\n",
       "    <tr>\n",
       "      <th>1</th>\n",
       "      <td>Thursday, February 14, 2013</td>\n",
       "      <td>Ms. JACKSON LEE</td>\n",
       "      <td>Democratic</td>\n",
       "      <td>As a Member of this body, I firmly believe th...</td>\n",
       "      <td>113th</td>\n",
       "      <td>member body firmly protect right eligible citi...</td>\n",
       "      <td>member body firmly protect right eligible citi...</td>\n",
       "    </tr>\n",
       "    <tr>\n",
       "      <th>2</th>\n",
       "      <td>Thursday, February 14, 2013</td>\n",
       "      <td>Ms. JACKSON LEE</td>\n",
       "      <td>Democratic</td>\n",
       "      <td>There have been several restrictive voting bi...</td>\n",
       "      <td>113th</td>\n",
       "      <td>restrictive voting bill considered approved st...</td>\n",
       "      <td>restrictive voting bill considered approved st...</td>\n",
       "    </tr>\n",
       "    <tr>\n",
       "      <th>3</th>\n",
       "      <td>Thursday, February 14, 2014</td>\n",
       "      <td>Mr. VEASEY</td>\n",
       "      <td>Democratic</td>\n",
       "      <td>As oral arguments are being prepared for the F...</td>\n",
       "      <td>113th</td>\n",
       "      <td>oral argument prepared february supreme court ...</td>\n",
       "      <td>argument prepared february supreme court heari...</td>\n",
       "    </tr>\n",
       "    <tr>\n",
       "      <th>4</th>\n",
       "      <td>Monday, February 25, 2013</td>\n",
       "      <td>Mr. JEFFRIES</td>\n",
       "      <td>Democratic</td>\n",
       "      <td>Perhaps the most relevant example of why secti...</td>\n",
       "      <td>113th</td>\n",
       "      <td>relevant section continues relevant due place ...</td>\n",
       "      <td>relevant section continues relevant due place ...</td>\n",
       "    </tr>\n",
       "  </tbody>\n",
       "</table>\n",
       "</div>"
      ],
      "text/plain": [
       "                          Date           Speaker       Party  \\\n",
       "0    Thursday, January 3, 2013     Ms. SLAUGHTER  Democratic   \n",
       "1  Thursday, February 14, 2013   Ms. JACKSON LEE  Democratic   \n",
       "2  Thursday, February 14, 2013   Ms. JACKSON LEE  Democratic   \n",
       "3  Thursday, February 14, 2014        Mr. VEASEY  Democratic   \n",
       "4    Monday, February 25, 2013      Mr. JEFFRIES  Democratic   \n",
       "\n",
       "                                                text Congress  \\\n",
       "0  Under the cover of a cynical and untruthful cl...    113th   \n",
       "1   As a Member of this body, I firmly believe th...    113th   \n",
       "2   There have been several restrictive voting bi...    113th   \n",
       "3  As oral arguments are being prepared for the F...    113th   \n",
       "4  Perhaps the most relevant example of why secti...    113th   \n",
       "\n",
       "                                                prep  \\\n",
       "0  cover cynical untruthful claim voter fraud thr...   \n",
       "1  member body firmly protect right eligible citi...   \n",
       "2  restrictive voting bill considered approved st...   \n",
       "3  oral argument prepared february supreme court ...   \n",
       "4  relevant section continues relevant due place ...   \n",
       "\n",
       "                                                freq  \n",
       "0  cover cynical claim voter fraud threat democra...  \n",
       "1  member body firmly protect right eligible citi...  \n",
       "2  restrictive voting bill considered approved st...  \n",
       "3  argument prepared february supreme court heari...  \n",
       "4  relevant section continues relevant due place ...  "
      ]
     },
     "execution_count": 31,
     "metadata": {},
     "output_type": "execute_result"
    }
   ],
   "source": [
    "# Filtering words that appear less than 3 times overall, by (1) Splitting sentences into words, (2) Computing global word frequency, (3) Filtering words based on computed frequencies, (4) Joining and re-assigning\n",
    "from collections import Counter\n",
    "from itertools import chain\n",
    "\n",
    "# split words into lists\n",
    "v = df['prep'].str.split().tolist() # [s.split() for s in df['Col2'].tolist()]\n",
    "# compute global word frequency\n",
    "c = Counter(chain.from_iterable(v))\n",
    "# filter, join, and re-assign\n",
    "df['freq'] = [' '.join([j for j in i if c[j] > 3]) for i in v]\n",
    "\n",
    "df.head()"
   ]
  },
  {
   "cell_type": "code",
   "execution_count": 32,
   "metadata": {},
   "outputs": [
    {
     "data": {
      "text/plain": [
       "169096"
      ]
     },
     "execution_count": 32,
     "metadata": {},
     "output_type": "execute_result"
    }
   ],
   "source": [
    "# Checking amount of words after preprocessing\n",
    "text =df['freq'].apply(str) \n",
    "tokens = [\" \".join(strings.split()) for strings in text] \n",
    "string = \" \".join(tokens)\n",
    "tokenized = word_tokenize(string)\n",
    "len(tokenized)"
   ]
  },
  {
   "cell_type": "code",
   "execution_count": 22,
   "metadata": {},
   "outputs": [],
   "source": [
    "df.to_csv(\"lemma.csv\") # save output to local machine"
   ]
  },
  {
   "cell_type": "code",
   "execution_count": 33,
   "metadata": {},
   "outputs": [
    {
     "data": {
      "text/plain": [
       "473"
      ]
     },
     "execution_count": 33,
     "metadata": {},
     "output_type": "execute_result"
    }
   ],
   "source": [
    "is_dem =  df['Party']=='Democratic'\n",
    "dem = df[is_dem]\n",
    "len(dem)"
   ]
  },
  {
   "cell_type": "code",
   "execution_count": 34,
   "metadata": {},
   "outputs": [
    {
     "data": {
      "text/plain": [
       "269"
      ]
     },
     "execution_count": 34,
     "metadata": {},
     "output_type": "execute_result"
    }
   ],
   "source": [
    "is_rep =  df['Party']=='Republican'\n",
    "rep = df[is_rep]\n",
    "len(rep)"
   ]
  },
  {
   "cell_type": "code",
   "execution_count": 35,
   "metadata": {},
   "outputs": [
    {
     "data": {
      "text/plain": [
       "115022"
      ]
     },
     "execution_count": 35,
     "metadata": {},
     "output_type": "execute_result"
    }
   ],
   "source": [
    "text =dem['prep'].apply(str) \n",
    "tokens = [\" \".join(strings.split()) for strings in text] \n",
    "string = \" \".join(tokens)\n",
    "tokenized = word_tokenize(string)\n",
    "len(tokenized)"
   ]
  },
  {
   "cell_type": "markdown",
   "metadata": {},
   "source": [
    "## Descriptive stats"
   ]
  },
  {
   "cell_type": "code",
   "execution_count": 41,
   "metadata": {},
   "outputs": [
    {
     "data": {
      "text/html": [
       "<div>\n",
       "<style scoped>\n",
       "    .dataframe tbody tr th:only-of-type {\n",
       "        vertical-align: middle;\n",
       "    }\n",
       "\n",
       "    .dataframe tbody tr th {\n",
       "        vertical-align: top;\n",
       "    }\n",
       "\n",
       "    .dataframe thead th {\n",
       "        text-align: right;\n",
       "    }\n",
       "</style>\n",
       "<table border=\"1\" class=\"dataframe\">\n",
       "  <thead>\n",
       "    <tr style=\"text-align: right;\">\n",
       "      <th></th>\n",
       "      <th>word</th>\n",
       "      <th>freq</th>\n",
       "    </tr>\n",
       "  </thead>\n",
       "  <tbody>\n",
       "    <tr>\n",
       "      <th>0</th>\n",
       "      <td>state</td>\n",
       "      <td>3182</td>\n",
       "    </tr>\n",
       "    <tr>\n",
       "      <th>1</th>\n",
       "      <td>vote</td>\n",
       "      <td>2986</td>\n",
       "    </tr>\n",
       "    <tr>\n",
       "      <th>2</th>\n",
       "      <td>voter</td>\n",
       "      <td>2950</td>\n",
       "    </tr>\n",
       "    <tr>\n",
       "      <th>3</th>\n",
       "      <td>election</td>\n",
       "      <td>2907</td>\n",
       "    </tr>\n",
       "    <tr>\n",
       "      <th>4</th>\n",
       "      <td>voting</td>\n",
       "      <td>2371</td>\n",
       "    </tr>\n",
       "    <tr>\n",
       "      <th>5</th>\n",
       "      <td>american</td>\n",
       "      <td>1988</td>\n",
       "    </tr>\n",
       "    <tr>\n",
       "      <th>6</th>\n",
       "      <td>people</td>\n",
       "      <td>1895</td>\n",
       "    </tr>\n",
       "    <tr>\n",
       "      <th>7</th>\n",
       "      <td>law</td>\n",
       "      <td>1759</td>\n",
       "    </tr>\n",
       "    <tr>\n",
       "      <th>8</th>\n",
       "      <td>bill</td>\n",
       "      <td>1338</td>\n",
       "    </tr>\n",
       "    <tr>\n",
       "      <th>9</th>\n",
       "      <td>right</td>\n",
       "      <td>1186</td>\n",
       "    </tr>\n",
       "    <tr>\n",
       "      <th>10</th>\n",
       "      <td>court</td>\n",
       "      <td>1049</td>\n",
       "    </tr>\n",
       "    <tr>\n",
       "      <th>11</th>\n",
       "      <td>ballot</td>\n",
       "      <td>1012</td>\n",
       "    </tr>\n",
       "    <tr>\n",
       "      <th>12</th>\n",
       "      <td>identification</td>\n",
       "      <td>1001</td>\n",
       "    </tr>\n",
       "    <tr>\n",
       "      <th>13</th>\n",
       "      <td>year</td>\n",
       "      <td>951</td>\n",
       "    </tr>\n",
       "    <tr>\n",
       "      <th>14</th>\n",
       "      <td>democrat</td>\n",
       "      <td>918</td>\n",
       "    </tr>\n",
       "    <tr>\n",
       "      <th>15</th>\n",
       "      <td>president</td>\n",
       "      <td>902</td>\n",
       "    </tr>\n",
       "    <tr>\n",
       "      <th>16</th>\n",
       "      <td>republican</td>\n",
       "      <td>894</td>\n",
       "    </tr>\n",
       "    <tr>\n",
       "      <th>17</th>\n",
       "      <td>vra</td>\n",
       "      <td>867</td>\n",
       "    </tr>\n",
       "    <tr>\n",
       "      <th>18</th>\n",
       "      <td>speaker</td>\n",
       "      <td>866</td>\n",
       "    </tr>\n",
       "    <tr>\n",
       "      <th>19</th>\n",
       "      <td>make</td>\n",
       "      <td>841</td>\n",
       "    </tr>\n",
       "  </tbody>\n",
       "</table>\n",
       "</div>"
      ],
      "text/plain": [
       "              word  freq\n",
       "0            state  3182\n",
       "1             vote  2986\n",
       "2            voter  2950\n",
       "3         election  2907\n",
       "4           voting  2371\n",
       "5         american  1988\n",
       "6           people  1895\n",
       "7              law  1759\n",
       "8             bill  1338\n",
       "9            right  1186\n",
       "10           court  1049\n",
       "11          ballot  1012\n",
       "12  identification  1001\n",
       "13            year   951\n",
       "14        democrat   918\n",
       "15       president   902\n",
       "16      republican   894\n",
       "17             vra   867\n",
       "18         speaker   866\n",
       "19            make   841"
      ]
     },
     "execution_count": 41,
     "metadata": {},
     "output_type": "execute_result"
    }
   ],
   "source": [
    "# Most frequent words\n",
    "from collections import Counter\n",
    "cnt = Counter()\n",
    "for text in df[\"prep\"].values:\n",
    "    for word in text.split():\n",
    "        cnt[word] += 1\n",
    "\n",
    "# cnt = Counter(\" \".join(df[\"prep\"]).split(\" \")).most_common(10) - another way of finding most common words in corpus\n",
    "\n",
    "cnt.most_common(20)\n",
    "cnt_df = pd.DataFrame(cnt.most_common(20))\n",
    "cnt_df.columns=['word', 'freq']\n",
    "cnt_df"
   ]
  },
  {
   "cell_type": "code",
   "execution_count": 44,
   "metadata": {},
   "outputs": [],
   "source": [
    "# Displaying top words\n",
    "\n",
    "import pandas as pd\n",
    "import matplotlib.pyplot as plt\n",
    "def scatterplot(df, x_dim, y_dim):\n",
    "  x = df[x_dim]\n",
    "  y = df[y_dim]\n",
    "  fig, ax = plt.subplots(figsize=(10, 10))\n",
    "  #customizes alpha for each dot in the scatter plot\n",
    "  ax.scatter(x, y, alpha=0.70)\n",
    " \n",
    "  #adds a title and axes labels\n",
    "  ax.set_title('Word Frequencies')\n",
    "  ax.set_xlabel('Frequency')\n",
    "  ax.set_ylabel('Word')\n",
    " \n",
    "  #removing top and right borders\n",
    "  ax.spines['top'].set_visible(False)\n",
    "  ax.spines['right'].set_visible(False)\n",
    "  #adds major gridlines\n",
    "  ax.grid(color='grey', linestyle='-', linewidth=0.25, alpha=0.5)\n",
    "  plt.show()\n",
    "\n"
   ]
  },
  {
   "cell_type": "code",
   "execution_count": 45,
   "metadata": {},
   "outputs": [
    {
     "data": {
      "image/png": "[encoded data removed]",
      "text/plain": [
       "<Figure size 720x720 with 1 Axes>"
      ]
     },
     "metadata": {
      "needs_background": "light"
     },
     "output_type": "display_data"
    }
   ],
   "source": [
    "scatterplot(cnt_df, 'freq', 'word')"
   ]
  },
  {
   "cell_type": "code",
   "execution_count": 46,
   "metadata": {},
   "outputs": [
    {
     "data": {
      "text/plain": [
       "[('transmission', 1),\n",
       " ('operator', 1),\n",
       " ('delicate', 1),\n",
       " ('activation', 1),\n",
       " ('obeying', 1),\n",
       " ('brazenly', 1),\n",
       " ('weakness', 1),\n",
       " ('blackmail', 1),\n",
       " ('dormancy', 1),\n",
       " ('capitulate', 1)]"
      ]
     },
     "execution_count": 46,
     "metadata": {},
     "output_type": "execute_result"
    }
   ],
   "source": [
    "# find very infrequent words\n",
    "cnt.most_common()[-10-1:-1]"
   ]
  },
  {
   "cell_type": "code",
   "execution_count": 47,
   "metadata": {
    "id": "g3xmXBEyVE92"
   },
   "outputs": [
    {
     "name": "stdout",
     "output_type": "stream",
     "text": [
      "('voter', 'fraud') 218\n",
      "('voter', 'identification') 541\n",
      "('identification', 'law') 371\n",
      "('cast', 'ballot') 103\n",
      "('early', 'voting') 223\n",
      "('minority', 'voter') 104\n",
      "('photo', 'identification') 164\n",
      "('election', 'day') 112\n",
      "('voter', 'registration') 224\n",
      "('african', 'american') 391\n",
      "('state', 'local') 100\n",
      "('election', 'law') 155\n",
      "('voting', 'right') 679\n",
      "('polling', 'place') 131\n",
      "('supreme', 'court') 478\n",
      "('shelby', 'county') 184\n",
      "('voter', 'suppression') 363\n",
      "('year', 'ago') 142\n",
      "('mr', 'speaker') 332\n",
      "('civil', 'right') 214\n",
      "('voting', 'law') 148\n",
      "('united', 'state') 294\n",
      "('john', 'lewis') 205\n",
      "('american', 'vote') 133\n",
      "('people', 'vote') 103\n",
      "('north', 'carolina') 250\n",
      "('ballot', 'box') 108\n",
      "('madam', 'speaker') 455\n",
      "('federal', 'government') 163\n",
      "('state', 'legislature') 163\n",
      "('federal', 'election') 169\n",
      "('american', 'people') 268\n",
      "('right', 'advancement') 108\n",
      "('advancement', 'act') 108\n",
      "('presidential', 'election') 103\n",
      "('vote', 'mail') 103\n",
      "('president', 'trump') 131\n",
      "('mr', 'farr') 109\n",
      "('ballot', 'harvesting') 118\n",
      "('people', 'act') 146\n",
      "('postal', 'service') 153\n"
     ]
    }
   ],
   "source": [
    "# Find top bigrams with a frequency above 100\n",
    "from nltk.util import ngrams\n",
    "n_gram = 2\n",
    "n_gram_dic = dict(Counter(ngrams(\" \".join(df[\"prep\"]).split(), n_gram))) # Finding ngrams in corpus\n",
    "\n",
    "for i in n_gram_dic:\n",
    "    if n_gram_dic[i] >= 100:\n",
    "        print(i, n_gram_dic[i])\n"
   ]
  },
  {
   "cell_type": "code",
   "execution_count": 48,
   "metadata": {
    "id": "JLItn_NCr_YD"
   },
   "outputs": [
    {
     "data": {
      "text/html": [
       "<div>\n",
       "<style scoped>\n",
       "    .dataframe tbody tr th:only-of-type {\n",
       "        vertical-align: middle;\n",
       "    }\n",
       "\n",
       "    .dataframe tbody tr th {\n",
       "        vertical-align: top;\n",
       "    }\n",
       "\n",
       "    .dataframe thead th {\n",
       "        text-align: right;\n",
       "    }\n",
       "</style>\n",
       "<table border=\"1\" class=\"dataframe\">\n",
       "  <thead>\n",
       "    <tr style=\"text-align: right;\">\n",
       "      <th></th>\n",
       "      <th>ngram</th>\n",
       "      <th>freq</th>\n",
       "    </tr>\n",
       "  </thead>\n",
       "  <tbody>\n",
       "    <tr>\n",
       "      <th>0</th>\n",
       "      <td>(voting, right)</td>\n",
       "      <td>679</td>\n",
       "    </tr>\n",
       "    <tr>\n",
       "      <th>1</th>\n",
       "      <td>(voter, identification)</td>\n",
       "      <td>541</td>\n",
       "    </tr>\n",
       "    <tr>\n",
       "      <th>2</th>\n",
       "      <td>(supreme, court)</td>\n",
       "      <td>478</td>\n",
       "    </tr>\n",
       "    <tr>\n",
       "      <th>3</th>\n",
       "      <td>(madam, speaker)</td>\n",
       "      <td>455</td>\n",
       "    </tr>\n",
       "    <tr>\n",
       "      <th>4</th>\n",
       "      <td>(african, american)</td>\n",
       "      <td>391</td>\n",
       "    </tr>\n",
       "    <tr>\n",
       "      <th>5</th>\n",
       "      <td>(identification, law)</td>\n",
       "      <td>371</td>\n",
       "    </tr>\n",
       "    <tr>\n",
       "      <th>6</th>\n",
       "      <td>(voter, suppression)</td>\n",
       "      <td>363</td>\n",
       "    </tr>\n",
       "    <tr>\n",
       "      <th>7</th>\n",
       "      <td>(mr, speaker)</td>\n",
       "      <td>332</td>\n",
       "    </tr>\n",
       "    <tr>\n",
       "      <th>8</th>\n",
       "      <td>(united, state)</td>\n",
       "      <td>294</td>\n",
       "    </tr>\n",
       "    <tr>\n",
       "      <th>9</th>\n",
       "      <td>(american, people)</td>\n",
       "      <td>268</td>\n",
       "    </tr>\n",
       "    <tr>\n",
       "      <th>10</th>\n",
       "      <td>(north, carolina)</td>\n",
       "      <td>250</td>\n",
       "    </tr>\n",
       "    <tr>\n",
       "      <th>11</th>\n",
       "      <td>(voter, registration)</td>\n",
       "      <td>224</td>\n",
       "    </tr>\n",
       "    <tr>\n",
       "      <th>12</th>\n",
       "      <td>(early, voting)</td>\n",
       "      <td>223</td>\n",
       "    </tr>\n",
       "    <tr>\n",
       "      <th>13</th>\n",
       "      <td>(voter, fraud)</td>\n",
       "      <td>218</td>\n",
       "    </tr>\n",
       "    <tr>\n",
       "      <th>14</th>\n",
       "      <td>(civil, right)</td>\n",
       "      <td>214</td>\n",
       "    </tr>\n",
       "    <tr>\n",
       "      <th>15</th>\n",
       "      <td>(john, lewis)</td>\n",
       "      <td>205</td>\n",
       "    </tr>\n",
       "    <tr>\n",
       "      <th>16</th>\n",
       "      <td>(shelby, county)</td>\n",
       "      <td>184</td>\n",
       "    </tr>\n",
       "    <tr>\n",
       "      <th>17</th>\n",
       "      <td>(federal, election)</td>\n",
       "      <td>169</td>\n",
       "    </tr>\n",
       "    <tr>\n",
       "      <th>18</th>\n",
       "      <td>(photo, identification)</td>\n",
       "      <td>164</td>\n",
       "    </tr>\n",
       "    <tr>\n",
       "      <th>19</th>\n",
       "      <td>(federal, government)</td>\n",
       "      <td>163</td>\n",
       "    </tr>\n",
       "  </tbody>\n",
       "</table>\n",
       "</div>"
      ],
      "text/plain": [
       "                      ngram  freq\n",
       "0           (voting, right)   679\n",
       "1   (voter, identification)   541\n",
       "2          (supreme, court)   478\n",
       "3          (madam, speaker)   455\n",
       "4       (african, american)   391\n",
       "5     (identification, law)   371\n",
       "6      (voter, suppression)   363\n",
       "7             (mr, speaker)   332\n",
       "8           (united, state)   294\n",
       "9        (american, people)   268\n",
       "10        (north, carolina)   250\n",
       "11    (voter, registration)   224\n",
       "12          (early, voting)   223\n",
       "13           (voter, fraud)   218\n",
       "14           (civil, right)   214\n",
       "15            (john, lewis)   205\n",
       "16         (shelby, county)   184\n",
       "17      (federal, election)   169\n",
       "18  (photo, identification)   164\n",
       "19    (federal, government)   163"
      ]
     },
     "execution_count": 48,
     "metadata": {},
     "output_type": "execute_result"
    }
   ],
   "source": [
    "# Sorting ngrams by frequency\n",
    "from nltk.util import ngrams\n",
    "n_gram = 2\n",
    "n_gram_dic = Counter(ngrams(\" \".join(df[\"prep\"]).split(), n_gram)).most_common(20) # 20 most common ngrams\n",
    "ngram = pd.DataFrame(n_gram_dic)\n",
    "ngram.columns=['ngram', 'freq']\n",
    "ngram"
   ]
  },
  {
   "cell_type": "markdown",
   "metadata": {},
   "source": [
    "Now that we know common bigrams we can go back to preprocessing and join these in the text so that they are subsequently treated as 1 token instead of 2. \n",
    "The following bigrams are joined:\n",
    "- Supreme court\n",
    "- Madam speaker\n",
    "- Mr Speaker\n",
    "- United States\n",
    "- North Carolina\n",
    "- African American\n",
    "- John Lewis\n",
    "\n"
   ]
  },
  {
   "cell_type": "code",
   "execution_count": 62,
   "metadata": {},
   "outputs": [],
   "source": [
    " def bigrams(raw_text):\n",
    "    letters_only_text = raw_text.replace(\"supreme court\", \"supreme_court\")\n",
    "    letters_only_text = letters_only_text.replace(\"madam speaker\", \"madam_speaker\")\n",
    "    letters_only_text = letters_only_text.replace(\"mr speaker\", \"mr_speaker\")\n",
    "    letters_only_text = letters_only_text.replace(\"african american\", \"african_american\")\n",
    "    letters_only_text = letters_only_text.replace(\"north carolina\", \"north_carolina\")\n",
    "    letters_only_text = letters_only_text.replace(\"john lewis\", \"john_lewis\")\n",
    "    letters_only_text = letters_only_text.replace(\"united state\", \"united_states\")\n",
    "     # convert to lower case and split into words -> convert string into list\n",
    "    words = letters_only_text.lower().split()\n",
    "    words=[\" \".join(words.split()) for words in words]   # remove double spaces by splitting the strings into words and joining these words again\n",
    "\n",
    "    cleaned_words = []\n",
    "    lemmatizer = WordNetLemmatizer() #plug in here any other stemmer or lemmatiser you want to try out\n",
    "    \n",
    "    # remove stopwords\n",
    "    for word in words:\n",
    "        if word not in stop_words:\n",
    "            cleaned_words.append(word)\n",
    "    \n",
    "    # lemmatise words\n",
    "    lemmatised_words = []\n",
    "    for word in cleaned_words:\n",
    "        word = nltk.stem.WordNetLemmatizer().lemmatize(word)  \n",
    "        lemmatised_words.append(word)\n",
    "\n",
    "    # converting list back to string\n",
    "    return \" \".join(lemmatised_words)"
   ]
  },
  {
   "cell_type": "code",
   "execution_count": 63,
   "metadata": {},
   "outputs": [
    {
     "data": {
      "text/html": [
       "<div>\n",
       "<style scoped>\n",
       "    .dataframe tbody tr th:only-of-type {\n",
       "        vertical-align: middle;\n",
       "    }\n",
       "\n",
       "    .dataframe tbody tr th {\n",
       "        vertical-align: top;\n",
       "    }\n",
       "\n",
       "    .dataframe thead th {\n",
       "        text-align: right;\n",
       "    }\n",
       "</style>\n",
       "<table border=\"1\" class=\"dataframe\">\n",
       "  <thead>\n",
       "    <tr style=\"text-align: right;\">\n",
       "      <th></th>\n",
       "      <th>Date</th>\n",
       "      <th>Speaker</th>\n",
       "      <th>Party</th>\n",
       "      <th>text</th>\n",
       "      <th>Congress</th>\n",
       "      <th>prep</th>\n",
       "    </tr>\n",
       "  </thead>\n",
       "  <tbody>\n",
       "    <tr>\n",
       "      <th>0</th>\n",
       "      <td>Thursday, January 3, 2013</td>\n",
       "      <td>Ms. SLAUGHTER</td>\n",
       "      <td>Democratic</td>\n",
       "      <td>Under the cover of a cynical and untruthful cl...</td>\n",
       "      <td>113th</td>\n",
       "      <td>cover cynical untruthful claim voter fraud thr...</td>\n",
       "    </tr>\n",
       "    <tr>\n",
       "      <th>1</th>\n",
       "      <td>Thursday, February 14, 2013</td>\n",
       "      <td>Ms. JACKSON LEE</td>\n",
       "      <td>Democratic</td>\n",
       "      <td>As a Member of this body, I firmly believe th...</td>\n",
       "      <td>113th</td>\n",
       "      <td>member body, firmly protect right eligible cit...</td>\n",
       "    </tr>\n",
       "    <tr>\n",
       "      <th>2</th>\n",
       "      <td>Thursday, February 14, 2013</td>\n",
       "      <td>Ms. JACKSON LEE</td>\n",
       "      <td>Democratic</td>\n",
       "      <td>There have been several restrictive voting bi...</td>\n",
       "      <td>113th</td>\n",
       "      <td>restrictive voting bill considered approved st...</td>\n",
       "    </tr>\n",
       "    <tr>\n",
       "      <th>3</th>\n",
       "      <td>Thursday, February 14, 2014</td>\n",
       "      <td>Mr. VEASEY</td>\n",
       "      <td>Democratic</td>\n",
       "      <td>As oral arguments are being prepared for the F...</td>\n",
       "      <td>113th</td>\n",
       "      <td>oral argument prepared february 27 u.s. suprem...</td>\n",
       "    </tr>\n",
       "    <tr>\n",
       "      <th>4</th>\n",
       "      <td>Monday, February 25, 2013</td>\n",
       "      <td>Mr. JEFFRIES</td>\n",
       "      <td>Democratic</td>\n",
       "      <td>Perhaps the most relevant example of why secti...</td>\n",
       "      <td>113th</td>\n",
       "      <td>relevant section 5 continues relevant due plac...</td>\n",
       "    </tr>\n",
       "  </tbody>\n",
       "</table>\n",
       "</div>"
      ],
      "text/plain": [
       "                          Date           Speaker       Party  \\\n",
       "0    Thursday, January 3, 2013     Ms. SLAUGHTER  Democratic   \n",
       "1  Thursday, February 14, 2013   Ms. JACKSON LEE  Democratic   \n",
       "2  Thursday, February 14, 2013   Ms. JACKSON LEE  Democratic   \n",
       "3  Thursday, February 14, 2014        Mr. VEASEY  Democratic   \n",
       "4    Monday, February 25, 2013      Mr. JEFFRIES  Democratic   \n",
       "\n",
       "                                                text Congress  \\\n",
       "0  Under the cover of a cynical and untruthful cl...    113th   \n",
       "1   As a Member of this body, I firmly believe th...    113th   \n",
       "2   There have been several restrictive voting bi...    113th   \n",
       "3  As oral arguments are being prepared for the F...    113th   \n",
       "4  Perhaps the most relevant example of why secti...    113th   \n",
       "\n",
       "                                                prep  \n",
       "0  cover cynical untruthful claim voter fraud thr...  \n",
       "1  member body, firmly protect right eligible cit...  \n",
       "2  restrictive voting bill considered approved st...  \n",
       "3  oral argument prepared february 27 u.s. suprem...  \n",
       "4  relevant section 5 continues relevant due plac...  "
      ]
     },
     "execution_count": 63,
     "metadata": {},
     "output_type": "execute_result"
    }
   ],
   "source": [
    "df['text']=df['text'].apply(str) # Converting text column into string so that preprocessing works\n",
    "\n",
    "df['prep'] = df['text'].apply(bigrams)\n",
    "df.head()"
   ]
  },
  {
   "cell_type": "code",
   "execution_count": null,
   "metadata": {},
   "outputs": [],
   "source": [
    "# this used to work but doesnt anymore\n",
    "from pandas.core.frame import DataFrame\n",
    "!pip install wordcloud\n",
    "from wordcloud import WordCloud\n",
    "import matplotlib.pyplot as plt\n",
    "\n",
    "all_words = '' \n",
    "\n",
    "#looping through all incidents and joining them to one text, to extract most common words\n",
    "for arg in df[\"prep\"]: \n",
    "    tokens = arg.split()  \n",
    "    all_words += \" \".join(tokens)+\" \"\n",
    "\n",
    "wordcloud = WordCloud(width = 1000, height = 1000, \n",
    "                background_color ='white', \n",
    "                min_font_size = 10).generate(all_words) \n",
    "  \n",
    "# plot the WordCloud image                        \n",
    "plt.figure(figsize = (10, 10), facecolor = None) \n",
    "plt.imshow(wordcloud) \n",
    "plt.axis(\"off\") \n",
    "plt.tight_layout(pad = 0) \n",
    "  \n",
    "plt.show()"
   ]
  },
  {
   "cell_type": "code",
   "execution_count": 70,
   "metadata": {},
   "outputs": [
    {
     "data": {
      "image/png": "[encoded data removed]",
      "text/plain": [
       "<Figure size 504x360 with 1 Axes>"
      ]
     },
     "metadata": {
      "needs_background": "light"
     },
     "output_type": "display_data"
    }
   ],
   "source": [
    "df['Party'].value_counts() # Counting speeches per Party\n",
    "\n",
    "ax = data['Party'].value_counts().sort_index().plot(kind='bar', fontsize=14, figsize=(7,5))\n",
    "ax.set_title('Party Speech Count\\n', fontsize=20)\n",
    "ax.set_xlabel('Publication', fontsize=18)\n",
    "ax.set_ylabel('Count', fontsize=18);"
   ]
  },
  {
   "cell_type": "code",
   "execution_count": 71,
   "metadata": {},
   "outputs": [
    {
     "data": {
      "text/html": [
       "<div>\n",
       "<style scoped>\n",
       "    .dataframe tbody tr th:only-of-type {\n",
       "        vertical-align: middle;\n",
       "    }\n",
       "\n",
       "    .dataframe tbody tr th {\n",
       "        vertical-align: top;\n",
       "    }\n",
       "\n",
       "    .dataframe thead th {\n",
       "        text-align: right;\n",
       "    }\n",
       "</style>\n",
       "<table border=\"1\" class=\"dataframe\">\n",
       "  <thead>\n",
       "    <tr style=\"text-align: right;\">\n",
       "      <th></th>\n",
       "      <th>Congress</th>\n",
       "    </tr>\n",
       "  </thead>\n",
       "  <tbody>\n",
       "    <tr>\n",
       "      <th>117th</th>\n",
       "      <td>292</td>\n",
       "    </tr>\n",
       "    <tr>\n",
       "      <th>116th</th>\n",
       "      <td>232</td>\n",
       "    </tr>\n",
       "    <tr>\n",
       "      <th>115th</th>\n",
       "      <td>102</td>\n",
       "    </tr>\n",
       "    <tr>\n",
       "      <th>114th</th>\n",
       "      <td>74</td>\n",
       "    </tr>\n",
       "    <tr>\n",
       "      <th>113th</th>\n",
       "      <td>42</td>\n",
       "    </tr>\n",
       "  </tbody>\n",
       "</table>\n",
       "</div>"
      ],
      "text/plain": [
       "       Congress\n",
       "117th       292\n",
       "116th       232\n",
       "115th       102\n",
       "114th        74\n",
       "113th        42"
      ]
     },
     "execution_count": 71,
     "metadata": {},
     "output_type": "execute_result"
    }
   ],
   "source": [
    "congress = df['Congress'].value_counts()\n",
    "pd.DataFrame(congress)"
   ]
  },
  {
   "cell_type": "code",
   "execution_count": 72,
   "metadata": {
    "colab": {
     "base_uri": "https://localhost:8080/",
     "height": 416
    },
    "id": "O_V4g4yt447N",
    "outputId": "4a655191-b174-4a53-cb8e-cebd3d11b662"
   },
   "outputs": [
    {
     "data": {
      "image/png": "[encoded data removed]",
      "text/plain": [
       "<Figure size 504x360 with 1 Axes>"
      ]
     },
     "metadata": {
      "needs_background": "light"
     },
     "output_type": "display_data"
    }
   ],
   "source": [
    "ax = df['Congress'].value_counts().sort_index().plot(kind='bar', fontsize=14, figsize=(7,5)) # Counting speeches per Congress\n",
    "ax.set_title('Congress Speech Count\\n', fontsize=20)\n",
    "ax.set_xlabel('Congress', fontsize=18)\n",
    "ax.set_ylabel('Statements', fontsize=18);"
   ]
  },
  {
   "cell_type": "markdown",
   "metadata": {},
   "source": [
    "## POS"
   ]
  },
  {
   "cell_type": "code",
   "execution_count": null,
   "metadata": {},
   "outputs": [],
   "source": [
    "import nltk\n",
    "tagged = nltk.pos_tag(my_counter)\n",
    "print(tagged)"
   ]
  },
  {
   "cell_type": "markdown",
   "metadata": {},
   "source": [
    "### TF-IDF scores instead of word counts as features\n",
    "Use (a) the frequency of each word in the corpus and (b) the number of documents in which the document occurs. So use tf-idf scores (term frequency weighed by the inverse document frequency) instead of raw word counts as features, the stopwords should disappear automatically."
   ]
  },
  {
   "cell_type": "code",
   "execution_count": 75,
   "metadata": {},
   "outputs": [],
   "source": [
    "text = df['prep'] # setting 'text' as the preprocessed corpus\n",
    "orig = df['text']\n"
   ]
  },
  {
   "cell_type": "markdown",
   "metadata": {},
   "source": [
    "While cv.fit(...) would only create the vocabulary, cv.fit_transform(...) creates the vocabulary and returns a term-document matrix which is what we want. With this, each column in the matrix represents a word in the vocabulary while each row represents the document in our dataset where the values in this case are the word counts. Note that with this representation, counts of some words could be 0 if the word did not appear in the corresponding document.\n",
    "\n",
    "We ignore all words that have appeared in 95% of the documents, since those may be unimportant."
   ]
  },
  {
   "cell_type": "code",
   "execution_count": 76,
   "metadata": {},
   "outputs": [
    {
     "data": {
      "text/plain": [
       "<742x2874 sparse matrix of type '<class 'numpy.int64'>'\n",
       "\twith 102273 stored elements in Compressed Sparse Row format>"
      ]
     },
     "execution_count": 76,
     "metadata": {},
     "output_type": "execute_result"
    }
   ],
   "source": [
    "# ignore words that appear in 95% of documents and in less that 1% of documents,\n",
    "cv=CountVectorizer(max_df=0.95, min_df =0.01)\n",
    "word_count_vector=cv.fit_transform(text)\n",
    "\n",
    "word_count_vector"
   ]
  },
  {
   "cell_type": "code",
   "execution_count": 77,
   "metadata": {},
   "outputs": [
    {
     "data": {
      "text/plain": [
       "['cover',\n",
       " 'cynical',\n",
       " 'claim',\n",
       " 'voter',\n",
       " 'fraud',\n",
       " 'threat',\n",
       " 'democracy',\n",
       " 'political',\n",
       " 'operative',\n",
       " 'state']"
      ]
     },
     "execution_count": 77,
     "metadata": {},
     "output_type": "execute_result"
    }
   ],
   "source": [
    "list(cv.vocabulary_.keys())[:10] #10 words from our vocabulary."
   ]
  },
  {
   "cell_type": "markdown",
   "metadata": {},
   "source": [
    "It’s now time to compute the IDF values. In the code below, we are essentially taking the sparse matrix from CountVectorizer (word_count_vector) to generate the IDF when you invoke tfidf_transformer.fit(...)(see: basic usage example of tfidftransformer and tfidfvectorizer).\n",
    "Once we have our IDF computed, we are now ready to compute TF-IDF and then extract top keywords from the TF-IDF vectors. Now we are going to compute the IDF values. IDF values are be sorted in descending order. The lower the IDF value of a word, the less unique it is to any particular document."
   ]
  },
  {
   "cell_type": "code",
   "execution_count": 78,
   "metadata": {},
   "outputs": [
    {
     "data": {
      "text/plain": [
       "TfidfTransformer()"
      ]
     },
     "execution_count": 78,
     "metadata": {},
     "output_type": "execute_result"
    }
   ],
   "source": [
    "from sklearn.feature_extraction.text import TfidfTransformer\n",
    "\n",
    "tfidf_transformer=TfidfTransformer(smooth_idf=True,use_idf=True)\n",
    "tfidf_transformer.fit(word_count_vector)"
   ]
  },
  {
   "cell_type": "code",
   "execution_count": 79,
   "metadata": {},
   "outputs": [
    {
     "name": "stderr",
     "output_type": "stream",
     "text": [
      "C:\\Users\\analo\\AppData\\Local\\Packages\\PythonSoftwareFoundation.Python.3.9_qbz5n2kfra8p0\\LocalCache\\local-packages\\Python39\\site-packages\\sklearn\\utils\\deprecation.py:87: FutureWarning: Function get_feature_names is deprecated; get_feature_names is deprecated in 1.0 and will be removed in 1.2. Please use get_feature_names_out instead.\n",
      "  warnings.warn(msg, category=FutureWarning)\n"
     ]
    },
    {
     "data": {
      "text/html": [
       "<div>\n",
       "<style scoped>\n",
       "    .dataframe tbody tr th:only-of-type {\n",
       "        vertical-align: middle;\n",
       "    }\n",
       "\n",
       "    .dataframe tbody tr th {\n",
       "        vertical-align: top;\n",
       "    }\n",
       "\n",
       "    .dataframe thead th {\n",
       "        text-align: right;\n",
       "    }\n",
       "</style>\n",
       "<table border=\"1\" class=\"dataframe\">\n",
       "  <thead>\n",
       "    <tr style=\"text-align: right;\">\n",
       "      <th></th>\n",
       "      <th>idf_weights</th>\n",
       "    </tr>\n",
       "  </thead>\n",
       "  <tbody>\n",
       "    <tr>\n",
       "      <th>voter</th>\n",
       "      <td>1.254588</td>\n",
       "    </tr>\n",
       "    <tr>\n",
       "      <th>vote</th>\n",
       "      <td>1.277416</td>\n",
       "    </tr>\n",
       "    <tr>\n",
       "      <th>state</th>\n",
       "      <td>1.317277</td>\n",
       "    </tr>\n",
       "    <tr>\n",
       "      <th>voting</th>\n",
       "      <td>1.354946</td>\n",
       "    </tr>\n",
       "    <tr>\n",
       "      <th>people</th>\n",
       "      <td>1.447381</td>\n",
       "    </tr>\n",
       "    <tr>\n",
       "      <th>american</th>\n",
       "      <td>1.472969</td>\n",
       "    </tr>\n",
       "    <tr>\n",
       "      <th>election</th>\n",
       "      <td>1.475131</td>\n",
       "    </tr>\n",
       "    <tr>\n",
       "      <th>law</th>\n",
       "      <td>1.535350</td>\n",
       "    </tr>\n",
       "    <tr>\n",
       "      <th>right</th>\n",
       "      <td>1.699899</td>\n",
       "    </tr>\n",
       "    <tr>\n",
       "      <th>identification</th>\n",
       "      <td>1.721818</td>\n",
       "    </tr>\n",
       "  </tbody>\n",
       "</table>\n",
       "</div>"
      ],
      "text/plain": [
       "                idf_weights\n",
       "voter              1.254588\n",
       "vote               1.277416\n",
       "state              1.317277\n",
       "voting             1.354946\n",
       "people             1.447381\n",
       "american           1.472969\n",
       "election           1.475131\n",
       "law                1.535350\n",
       "right              1.699899\n",
       "identification     1.721818"
      ]
     },
     "execution_count": 79,
     "metadata": {},
     "output_type": "execute_result"
    }
   ],
   "source": [
    "# print idf values \n",
    "df_idf = pd.DataFrame(tfidf_transformer.idf_, index=cv.get_feature_names(),columns=[\"idf_weights\"]) \n",
    " \n",
    "# sort ascending \n",
    "df_idf.sort_values(by=['idf_weights'])[:10]"
   ]
  },
  {
   "cell_type": "markdown",
   "metadata": {},
   "source": [
    "Find most common words by Party "
   ]
  },
  {
   "cell_type": "code",
   "execution_count": 86,
   "metadata": {},
   "outputs": [
    {
     "name": "stderr",
     "output_type": "stream",
     "text": [
      "C:\\Users\\analo\\AppData\\Local\\Packages\\PythonSoftwareFoundation.Python.3.9_qbz5n2kfra8p0\\LocalCache\\local-packages\\Python39\\site-packages\\sklearn\\utils\\deprecation.py:87: FutureWarning: Function get_feature_names is deprecated; get_feature_names is deprecated in 1.0 and will be removed in 1.2. Please use get_feature_names_out instead.\n",
      "  warnings.warn(msg, category=FutureWarning)\n"
     ]
    },
    {
     "data": {
      "text/html": [
       "<div>\n",
       "<style scoped>\n",
       "    .dataframe tbody tr th:only-of-type {\n",
       "        vertical-align: middle;\n",
       "    }\n",
       "\n",
       "    .dataframe tbody tr th {\n",
       "        vertical-align: top;\n",
       "    }\n",
       "\n",
       "    .dataframe thead th {\n",
       "        text-align: right;\n",
       "    }\n",
       "</style>\n",
       "<table border=\"1\" class=\"dataframe\">\n",
       "  <thead>\n",
       "    <tr style=\"text-align: right;\">\n",
       "      <th></th>\n",
       "      <th>idf_weights</th>\n",
       "    </tr>\n",
       "  </thead>\n",
       "  <tbody>\n",
       "    <tr>\n",
       "      <th>voter</th>\n",
       "      <td>1.195061</td>\n",
       "    </tr>\n",
       "    <tr>\n",
       "      <th>vote</th>\n",
       "      <td>1.221036</td>\n",
       "    </tr>\n",
       "    <tr>\n",
       "      <th>voting</th>\n",
       "      <td>1.253124</td>\n",
       "    </tr>\n",
       "    <tr>\n",
       "      <th>state</th>\n",
       "      <td>1.306135</td>\n",
       "    </tr>\n",
       "    <tr>\n",
       "      <th>law</th>\n",
       "      <td>1.386656</td>\n",
       "    </tr>\n",
       "    <tr>\n",
       "      <th>american</th>\n",
       "      <td>1.415004</td>\n",
       "    </tr>\n",
       "    <tr>\n",
       "      <th>right</th>\n",
       "      <td>1.464114</td>\n",
       "    </tr>\n",
       "    <tr>\n",
       "      <th>people</th>\n",
       "      <td>1.512233</td>\n",
       "    </tr>\n",
       "    <tr>\n",
       "      <th>election</th>\n",
       "      <td>1.581477</td>\n",
       "    </tr>\n",
       "    <tr>\n",
       "      <th>court</th>\n",
       "      <td>1.651819</td>\n",
       "    </tr>\n",
       "  </tbody>\n",
       "</table>\n",
       "</div>"
      ],
      "text/plain": [
       "          idf_weights\n",
       "voter        1.195061\n",
       "vote         1.221036\n",
       "voting       1.253124\n",
       "state        1.306135\n",
       "law          1.386656\n",
       "american     1.415004\n",
       "right        1.464114\n",
       "people       1.512233\n",
       "election     1.581477\n",
       "court        1.651819"
      ]
     },
     "execution_count": 86,
     "metadata": {},
     "output_type": "execute_result"
    }
   ],
   "source": [
    "cv=CountVectorizer(max_df=0.95, min_df =0.01)\n",
    "word_count_vector_d=cv.fit_transform(dem['prep'])\n",
    "tfidf_transformer_d=TfidfTransformer(smooth_idf=True,use_idf=True)\n",
    "tfidf_transformer_d.fit(word_count_vector_d)\n",
    "df_idf_d = pd.DataFrame(tfidf_transformer_d.idf_, index=cv.get_feature_names(),columns=[\"idf_weights\"]) \n",
    "df_idf_d.sort_values(by=['idf_weights'])[:10]"
   ]
  },
  {
   "cell_type": "code",
   "execution_count": 87,
   "metadata": {},
   "outputs": [
    {
     "name": "stderr",
     "output_type": "stream",
     "text": [
      "C:\\Users\\analo\\AppData\\Local\\Packages\\PythonSoftwareFoundation.Python.3.9_qbz5n2kfra8p0\\LocalCache\\local-packages\\Python39\\site-packages\\sklearn\\utils\\deprecation.py:87: FutureWarning: Function get_feature_names is deprecated; get_feature_names is deprecated in 1.0 and will be removed in 1.2. Please use get_feature_names_out instead.\n",
      "  warnings.warn(msg, category=FutureWarning)\n"
     ]
    },
    {
     "data": {
      "text/html": [
       "<div>\n",
       "<style scoped>\n",
       "    .dataframe tbody tr th:only-of-type {\n",
       "        vertical-align: middle;\n",
       "    }\n",
       "\n",
       "    .dataframe tbody tr th {\n",
       "        vertical-align: top;\n",
       "    }\n",
       "\n",
       "    .dataframe thead th {\n",
       "        text-align: right;\n",
       "    }\n",
       "</style>\n",
       "<table border=\"1\" class=\"dataframe\">\n",
       "  <thead>\n",
       "    <tr style=\"text-align: right;\">\n",
       "      <th></th>\n",
       "      <th>idf_weights</th>\n",
       "    </tr>\n",
       "  </thead>\n",
       "  <tbody>\n",
       "    <tr>\n",
       "      <th>election</th>\n",
       "      <td>1.186776</td>\n",
       "    </tr>\n",
       "    <tr>\n",
       "      <th>state</th>\n",
       "      <td>1.218525</td>\n",
       "    </tr>\n",
       "    <tr>\n",
       "      <th>voter</th>\n",
       "      <td>1.300105</td>\n",
       "    </tr>\n",
       "    <tr>\n",
       "      <th>people</th>\n",
       "      <td>1.340927</td>\n",
       "    </tr>\n",
       "    <tr>\n",
       "      <th>vote</th>\n",
       "      <td>1.361980</td>\n",
       "    </tr>\n",
       "    <tr>\n",
       "      <th>american</th>\n",
       "      <td>1.416638</td>\n",
       "    </tr>\n",
       "    <tr>\n",
       "      <th>law</th>\n",
       "      <td>1.468523</td>\n",
       "    </tr>\n",
       "    <tr>\n",
       "      <th>bill</th>\n",
       "      <td>1.492476</td>\n",
       "    </tr>\n",
       "    <tr>\n",
       "      <th>voting</th>\n",
       "      <td>1.561469</td>\n",
       "    </tr>\n",
       "    <tr>\n",
       "      <th>identification</th>\n",
       "      <td>1.607989</td>\n",
       "    </tr>\n",
       "  </tbody>\n",
       "</table>\n",
       "</div>"
      ],
      "text/plain": [
       "                idf_weights\n",
       "election           1.186776\n",
       "state              1.218525\n",
       "voter              1.300105\n",
       "people             1.340927\n",
       "vote               1.361980\n",
       "american           1.416638\n",
       "law                1.468523\n",
       "bill               1.492476\n",
       "voting             1.561469\n",
       "identification     1.607989"
      ]
     },
     "execution_count": 87,
     "metadata": {},
     "output_type": "execute_result"
    }
   ],
   "source": [
    "cv=CountVectorizer(max_df=0.95, min_df =0.01)\n",
    "word_count_vector_r=cv.fit_transform(rep['prep'])\n",
    "tfidf_transformer_r=TfidfTransformer(smooth_idf=True,use_idf=True)\n",
    "tfidf_transformer_r.fit(word_count_vector_r)\n",
    "df_idf_r = pd.DataFrame(tfidf_transformer_r.idf_, index=cv.get_feature_names(),columns=[\"idf_weights\"]) \n",
    "df_idf_r.sort_values(by=['idf_weights'])[:10]"
   ]
  }
 ],
 "metadata": {
  "interpreter": {
   "hash": "69226dc651b7fbb4cbb68815143d2221db9c2a369a5e9beb9597b16c0cffa010"
  },
  "kernelspec": {
   "display_name": "Python 3.9.7 64-bit (windows store)",
   "name": "python3"
  },
  "language_info": {
   "codemirror_mode": {
    "name": "ipython",
    "version": 3
   },
   "file_extension": ".py",
   "mimetype": "text/x-python",
   "name": "python",
   "nbconvert_exporter": "python",
   "pygments_lexer": "ipython3",
   "version": "3.9.7"
  },
  "orig_nbformat": 4
 },
 "nbformat": 4,
 "nbformat_minor": 2
}
